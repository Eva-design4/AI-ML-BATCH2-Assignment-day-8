{
 "cells": [
  {
   "cell_type": "markdown",
   "metadata": {},
   "source": [
    "# Question 1"
   ]
  },
  {
   "cell_type": "markdown",
   "metadata": {},
   "source": [
    "Recreate \"NB 21 map ,filter , lambda ,filter lambda.ipynb\" to try different variations or perform different calculations from the ones that are in the NB"
   ]
  },
  {
   "cell_type": "markdown",
   "metadata": {},
   "source": [
    "# Map,Filter,Reduce\n"
   ]
  },
  {
   "cell_type": "markdown",
   "metadata": {},
   "source": [
    " Map, Filter, and Reduce are standard perspective of functional programming.\n",
    " \n",
    "    They allow the programmer to write simpler, shorter codes, without neccesarily needing to use the loopa and other branching.\n",
    "    \n",
    "    "
   ]
  },
  {
   "cell_type": "markdown",
   "metadata": {},
   "source": [
    "# Map"
   ]
  },
  {
   "cell_type": "markdown",
   "metadata": {},
   "source": [
    "\n",
    "Syntax\n",
    "map(func, *iterables)\n",
    "\n",
    "Map functions returns a map object  which is a generator object,inorder to get the re sult of a list the list built in function must be used. but in order to \n"
   ]
  },
  {
   "cell_type": "code",
   "execution_count": 3,
   "metadata": {},
   "outputs": [
    {
     "name": "stdout",
     "output_type": "stream",
     "text": [
      "256\n"
     ]
    }
   ],
   "source": [
    "#map(function, iterables)\n",
    "def sqr(b):\n",
    "    return b**b\n",
    "y = sqr(4)\n",
    "print(y)"
   ]
  },
  {
   "cell_type": "code",
   "execution_count": 6,
   "metadata": {},
   "outputs": [
    {
     "name": "stdout",
     "output_type": "stream",
     "text": [
      "<map object at 0x000001F48206E288>\n",
      "<class 'map'>\n",
      "[27, 3125, 46656, 823543, 387420489]\n"
     ]
    }
   ],
   "source": [
    "def sqr(b):\n",
    "    return b**b\n",
    "y = map(sqr,[3,5,6,7,9])\n",
    "print(y)\n",
    "print(type(y))\n",
    "print(list(y))\n"
   ]
  },
  {
   "cell_type": "code",
   "execution_count": 10,
   "metadata": {},
   "outputs": [
    {
     "name": "stdout",
     "output_type": "stream",
     "text": [
      "[1, 81, 256, 625]\n"
     ]
    }
   ],
   "source": [
    "def sqr(b,c):\n",
    "    return b**c\n",
    "y = map(sqr,[1,3,4,5],[4,4,4,4])\n",
    "print(list(y))"
   ]
  },
  {
   "cell_type": "code",
   "execution_count": 11,
   "metadata": {},
   "outputs": [
    {
     "name": "stdout",
     "output_type": "stream",
     "text": [
      "[1, 81, 256, 625]\n"
     ]
    }
   ],
   "source": [
    "# map(function, iterables)\n",
    "def sqr(b,c):\n",
    "    return b**c\n",
    "print(list(map(sqr,[1,3,4,5],[4,4,4,4])))"
   ]
  },
  {
   "cell_type": "code",
   "execution_count": 12,
   "metadata": {},
   "outputs": [
    {
     "name": "stdout",
     "output_type": "stream",
     "text": [
      "[0, 1, 16, 81]\n"
     ]
    }
   ],
   "source": [
    "def sqr(b,c):\n",
    "    return b**c\n",
    "print(list(map(sqr,[i for i in range(5)],[4,4,4,4])))"
   ]
  },
  {
   "cell_type": "code",
   "execution_count": 8,
   "metadata": {},
   "outputs": [
    {
     "name": "stdout",
     "output_type": "stream",
     "text": [
      "['MARY', ' VAL', 'JAMES', 'LYN']\n"
     ]
    }
   ],
   "source": [
    "# Convert list to upper cases using map function.\n",
    "\n",
    "my_friends = ['Mary',' Val','James','Lyn']\n",
    "uppered_friends =list(map(str.upper, my_friends))\n",
    "\n",
    "print(uppered_friends)"
   ]
  },
  {
   "cell_type": "code",
   "execution_count": 3,
   "metadata": {},
   "outputs": [
    {
     "name": "stdout",
     "output_type": "stream",
     "text": [
      "[3.5, 6.21, 7.486, 9.3457, 2.45678]\n"
     ]
    }
   ],
   "source": [
    "# Round up to the nearest decimal place in a given range.\n",
    "\n",
    "circle_areas = [3.45686,6.20983,7.4859721,9.345677,2.4567752]\n",
    "result = list(map(round,circle_areas,range(1,6)))\n",
    "print (result)"
   ]
  },
  {
   "cell_type": "code",
   "execution_count": null,
   "metadata": {},
   "outputs": [],
   "source": []
  },
  {
   "cell_type": "markdown",
   "metadata": {},
   "source": [
    "# Filter"
   ]
  },
  {
   "cell_type": "markdown",
   "metadata": {},
   "source": [
    "This is used for filtering each element in iterables by using the function to return boolen values (True or False)\n",
    "\n",
    "In filter only one iterable is required.\n",
    "\n",
    "It passes each element in the iterable through function and only returns the onesthat evaluate to true. "
   ]
  },
  {
   "cell_type": "markdown",
   "metadata": {},
   "source": [
    "SYNTAX:\n",
    "    filter(function,iterables)"
   ]
  },
  {
   "cell_type": "code",
   "execution_count": 14,
   "metadata": {},
   "outputs": [
    {
     "name": "stdout",
     "output_type": "stream",
     "text": [
      "<filter object at 0x000001F4821DFAC8>\n",
      "<class 'filter'>\n",
      "[2, 3, 4, 5, 6, 7, 8]\n"
     ]
    }
   ],
   "source": [
    "def sqr(b):\n",
    "    if b<= 8:\n",
    "        return b\n",
    "t = filter (sqr, [2,3,4,5,6,7,8,9,12]) \n",
    "print(t)\n",
    "print(type(t))\n",
    "print(list(t))"
   ]
  },
  {
   "cell_type": "code",
   "execution_count": 1,
   "metadata": {},
   "outputs": [
    {
     "name": "stdout",
     "output_type": "stream",
     "text": [
      "[2, 3, 4, 5, 6]\n"
     ]
    }
   ],
   "source": [
    "lst = [2, 3, 4, 5, 6, 7, 8]\n",
    "y = filter(lambda x: x<=6,lst)\n",
    "print(list(y))"
   ]
  },
  {
   "cell_type": "code",
   "execution_count": 2,
   "metadata": {},
   "outputs": [
    {
     "name": "stdout",
     "output_type": "stream",
     "text": [
      "[2, 3, 4, 5, 6]\n"
     ]
    }
   ],
   "source": [
    "lst = [2, 3, 4, 5, 6, 7, 8]\n",
    "print(list(filter(lambda x: x<=6,lst)))"
   ]
  },
  {
   "cell_type": "code",
   "execution_count": 4,
   "metadata": {},
   "outputs": [
    {
     "name": "stdout",
     "output_type": "stream",
     "text": [
      "[89, 86, 81, 92]\n"
     ]
    }
   ],
   "source": [
    "#Filter scores of studesnt who passe with more than 80 in exam\n",
    "\n",
    "score =[55,67,89,86,75,74,81,55,92,]\n",
    "\n",
    "def  student(score):\n",
    "    return score>80\n",
    "over_80 = list(filter(student,score))\n",
    "print(over_80)"
   ]
  },
  {
   "cell_type": "markdown",
   "metadata": {},
   "source": [
    "# Lambda"
   ]
  },
  {
   "cell_type": "markdown",
   "metadata": {},
   "source": [
    "\n",
    "A lambda function is a n anonymous function.\n",
    "It can take any number of arguments, but can only have one expression.\n",
    "The functions createdN are nameless.\n",
    "NB: Lambda is a note a name but a keyword.\n",
    "\n",
    "The body of lambda function is written in one line hence reduces the code size.\n",
    "\n",
    "SYNTAX\n",
    "lambda arguments :expression"
   ]
  },
  {
   "cell_type": "code",
   "execution_count": 5,
   "metadata": {},
   "outputs": [
    {
     "data": {
      "text/plain": [
       "12"
      ]
     },
     "execution_count": 5,
     "metadata": {},
     "output_type": "execute_result"
    }
   ],
   "source": [
    "#Without lamda\n",
    "def sqr(b):\n",
    "    return b+b\n",
    "sqr(6)"
   ]
  },
  {
   "cell_type": "code",
   "execution_count": 7,
   "metadata": {},
   "outputs": [
    {
     "data": {
      "text/plain": [
       "12"
      ]
     },
     "execution_count": 7,
     "metadata": {},
     "output_type": "execute_result"
    }
   ],
   "source": [
    "#with lambda\n",
    "y = lambda b: b+b\n",
    "y(6)"
   ]
  },
  {
   "cell_type": "code",
   "execution_count": 8,
   "metadata": {},
   "outputs": [
    {
     "name": "stdout",
     "output_type": "stream",
     "text": [
      "30\n"
     ]
    }
   ],
   "source": [
    "x = lambda x: x*5\n",
    "print(x(6))"
   ]
  },
  {
   "cell_type": "code",
   "execution_count": 10,
   "metadata": {},
   "outputs": [
    {
     "name": "stdout",
     "output_type": "stream",
     "text": [
      "<function mno.<locals>.<lambda> at 0x000001EE124A19D8>\n",
      "5.0\n"
     ]
    }
   ],
   "source": [
    "def mno(y):\n",
    "    return lambda x: y/x\n",
    "s = mno(20)\n",
    "print(s)\n",
    "print(s(4))"
   ]
  },
  {
   "cell_type": "code",
   "execution_count": 1,
   "metadata": {},
   "outputs": [
    {
     "name": "stdout",
     "output_type": "stream",
     "text": [
      " We are waiting for exam day\n"
     ]
    }
   ],
   "source": [
    "x = \" We are waiting for exam day\"\n",
    "(lambda x : print(x))(x)"
   ]
  },
  {
   "cell_type": "code",
   "execution_count": 3,
   "metadata": {},
   "outputs": [
    {
     "name": "stdout",
     "output_type": "stream",
     "text": [
      "[100, 4, 9, 16, 3136, 64, 16, 121]\n"
     ]
    }
   ],
   "source": [
    "lst = [10,2,3,4,56,8,4,11]\n",
    "filtered_res = map(lambda x: x*x, lst)\n",
    "print(list(filtered_res))"
   ]
  },
  {
   "cell_type": "markdown",
   "metadata": {},
   "source": [
    "# Question 2:"
   ]
  },
  {
   "cell_type": "markdown",
   "metadata": {},
   "source": [
    "Recreate your own Python NB for \"classes and objects\" from the pdf provided namely\"Classes and Objects .pdf "
   ]
  },
  {
   "cell_type": "markdown",
   "metadata": {},
   "source": [
    "# Classes and Objects"
   ]
  },
  {
   "cell_type": "markdown",
   "metadata": {},
   "source": [
    " Python is an object oriented  programming language.\n",
    " \n",
    " Obejct Oriented Programming Is a method of structuring a program by putting together related properties and behaviours into indidual objects.\n",
    " \n",
    " \n",
    "Almost everything in python is an object, with its properties and methods.\n",
    "Object is an entity or \"thing\" in your program often a noun.\n",
    "\n",
    "An Object is a unique instance of data structure thats defined by class.\n",
    "it comprises of data memebrs  ( class vaiables and instance variables) and methods\n",
    "\n",
    "Examples are person:\n",
    "\n",
    "properties:\n",
    "Defines the state of the object, this the data that the object stores: eg Name, Address, Age\n",
    "\n",
    "Behaviours: These are actions our objects can take, these involves using or modifying the properties of objects.eg sing, run, sleep.\n",
    "\n",
    "## Terminologies in oop:\n",
    "\n",
    "##Class:is  like constructors used to create objects.\n",
    "class defines/ contains a set of attributes or characteristics of an object. That is defines methods.\n",
    "\n",
    "The attributes are accessed via adot notation.\n",
    "\n",
    "They also define a type of object.\n",
    "\n",
    "They also instantiate an object(take aclass and create object out of it)\n",
    "\n",
    "\n",
    "Operator overloading  is the assignment of more than one function to a particular operator.\n",
    "\n"
   ]
  },
  {
   "cell_type": "code",
   "execution_count": 20,
   "metadata": {},
   "outputs": [
    {
     "name": "stdout",
     "output_type": "stream",
     "text": [
      "Toby\n",
      "45\n",
      "5.9\n"
     ]
    }
   ],
   "source": [
    "# syntax for creating classes\n",
    "class myBrother():\n",
    "    def __init__(self, name, age, height):\n",
    "        self.name = name\n",
    "        self.age = age\n",
    "        self.height = height\n",
    "    \n",
    "B1 = myBrother(\"Toby\", 45, 5.9)\n",
    "print(B1.name)\n",
    "print(B1.age)\n",
    "print(B1.height)"
   ]
  },
  {
   "cell_type": "code",
   "execution_count": 21,
   "metadata": {},
   "outputs": [
    {
     "name": "stdout",
     "output_type": "stream",
     "text": [
      "singing,running, travellingToby\n"
     ]
    }
   ],
   "source": [
    "#creating a function within an object\n",
    "class myBrother():\n",
    "    def __init__(self, name, age, height):\n",
    "        self.name = name\n",
    "        self.age = age\n",
    "        self.height = height\n",
    "    \n",
    "    def Hobbies(self):\n",
    "        print(\"singing,running, travelling\"  + self.name)\n",
    "        \n",
    "B1 = myBrother(\"Toby\", 45, 5.9)\n",
    "B1.Hobbies()\n",
    "        "
   ]
  },
  {
   "cell_type": "code",
   "execution_count": null,
   "metadata": {},
   "outputs": [],
   "source": []
  },
  {
   "cell_type": "markdown",
   "metadata": {},
   "source": []
  },
  {
   "cell_type": "code",
   "execution_count": null,
   "metadata": {},
   "outputs": [],
   "source": []
  },
  {
   "cell_type": "markdown",
   "metadata": {},
   "source": [
    "# Instance Attributes"
   ]
  },
  {
   "cell_type": "raw",
   "metadata": {},
   "source": [
    "They are unique to each object(an instance is another name for an object.)\n",
    "\n",
    "_init_  is an initializer which is automatically called when intatiating a class.\n",
    "\n",
    "It ensure that a class the attributes it needs.\n",
    " "
   ]
  },
  {
   "cell_type": "markdown",
   "metadata": {},
   "source": [
    "# Class Attributes"
   ]
  },
  {
   "cell_type": "markdown",
   "metadata": {},
   "source": [
    "This is used to specify a default value that all objects should have after they have been instatiated"
   ]
  },
  {
   "cell_type": "markdown",
   "metadata": {},
   "source": [
    "# Inheritance"
   ]
  },
  {
   "cell_type": "markdown",
   "metadata": {},
   "source": [
    "This is the process by which one class takes on the attributes and methods of another\n",
    "\n",
    "The newly formed classes are called child classes.\n",
    "The classes that the child is derived from is called parent\n",
    "\n",
    "Child classes can override or extend the attributes and methods of parent class. That is they can inherit all attributes  of parents but can also have their own unique attributes as well.\n",
    "\n",
    "we use isinstance to check if an object is inherited\n",
    "\n",
    "\n"
   ]
  },
  {
   "cell_type": "code",
   "execution_count": null,
   "metadata": {},
   "outputs": [],
   "source": [
    "Syntax"
   ]
  },
  {
   "cell_type": "code",
   "execution_count": null,
   "metadata": {},
   "outputs": [],
   "source": []
  },
  {
   "cell_type": "markdown",
   "metadata": {},
   "source": [
    "# Destroying Objects(Garbage collectors)"
   ]
  },
  {
   "cell_type": "markdown",
   "metadata": {},
   "source": [
    "Garbage collection is the process by which python periodically  reclaims blocks of memory that are no longer in use.\n",
    "\n",
    "The garbage collector runs during the execution and is triggred when an object reference count reaches zero.\n",
    "\n",
    "An object reference count changes as the number alliases.\n",
    "\n",
    "The reference count inreaases when its assigned a new name or places in container(list, tuple, or dictionary"
   ]
  },
  {
   "cell_type": "code",
   "execution_count": 27,
   "metadata": {},
   "outputs": [],
   "source": [
    "x = 30 #create object< 30>\n",
    "y = x  # Increase ref. count of <30>\n",
    "t = [y] # Increase ref.count of <30>\n",
    "\n",
    "del x  # decrease ref.count<30>\n",
    "y = 80 # Decrease ref.count of <30>\n",
    "t[0]= -2# Decrease re.count of <30>\n"
   ]
  },
  {
   "cell_type": "code",
   "execution_count": null,
   "metadata": {},
   "outputs": [],
   "source": []
  }
 ],
 "metadata": {
  "kernelspec": {
   "display_name": "Python 3",
   "language": "python",
   "name": "python3"
  },
  "language_info": {
   "codemirror_mode": {
    "name": "ipython",
    "version": 3
   },
   "file_extension": ".py",
   "mimetype": "text/x-python",
   "name": "python",
   "nbconvert_exporter": "python",
   "pygments_lexer": "ipython3",
   "version": "3.7.6"
  }
 },
 "nbformat": 4,
 "nbformat_minor": 4
}
